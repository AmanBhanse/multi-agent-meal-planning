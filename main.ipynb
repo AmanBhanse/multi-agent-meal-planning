{
  "nbformat": 4,
  "nbformat_minor": 0,
  "metadata": {
    "colab": {
      "provenance": []
    },
    "kernelspec": {
      "name": "python3",
      "display_name": "Python 3"
    },
    "language_info": {
      "name": "python"
    }
  },
  "cells": [
    {
      "cell_type": "markdown",
      "source": [
        "\n",
        "<div align=\"center\">\n",
        "  <h1></h1>\n",
        "  <h1>Multi-Agent Meal Planning</h1>\n",
        "  <h4 align=\"center\">Assignmnet III</h4>\n",
        "  <h4 align=\"center\"></h4>\n",
        "</div>"
      ],
      "metadata": {
        "id": "LqyxjCYkHEgx"
      }
    },
    {
      "cell_type": "markdown",
      "source": [
        "Welcome to Assignment III!\n",
        "\n",
        "In this notebook, you will design and implement a Multi-Agent Meal Planning System that generates meal recommendations while adhering to budgetary and nutritional constraints. Using a team of specialized agents, you'll create a dynamic and interactive system capable of tailoring meal plans to diverse user requirements.\n",
        "\n",
        "**By the end of this assignment, you'll be able to:**\n",
        "1. Build a Multi-Agent System to collaboratively solve a complex task, such as\n",
        "meal planning.\n",
        "2. Design agents with specialized roles, such as recommending meals or validating budgets.\n",
        "3. Implement agent coordination mechanisms using RoundRobinGroupChat for group chatting.\n",
        "4. Integrate external tools (e.g., a Budget Checker Tool) to ensure the system adheres to financial constraints.\n",
        "5. Use termination methods effectively to manage agent interactions and prevent resource overuse."
      ],
      "metadata": {
        "id": "3xtFXjOSHdJq"
      }
    },
    {
      "cell_type": "markdown",
      "source": [
        "## Group Members\n",
        "\n",
        "\n",
        "1. First memebr:\n",
        "  * Name:\n",
        "  * Matrikel-Nr.:\n",
        "2. Second memebr:\n",
        "  * Name:\n",
        "  * Matrikel-Nr.:\n",
        "2. Third memebr:\n",
        "  * Name:\n",
        "  * Matrikel-Nr.:"
      ],
      "metadata": {
        "id": "jKmTq4gUHnlV"
      }
    },
    {
      "cell_type": "markdown",
      "source": [
        "# 1. Access to GROQ.\n",
        "Execute the following cell to connect to your Groq account."
      ],
      "metadata": {
        "id": "B4PmZxLsHq2w"
      }
    },
    {
      "cell_type": "code",
      "source": [
        "import os\n",
        "from getpass import getpass\n",
        "\n",
        "tokenGROQ = getpass('Enter GROQ_API_KEY here: ')\n",
        "os.environ[\"GROQ_API_KEY\"] = tokenGROQ"
      ],
      "metadata": {
        "id": "ZYkvWYtAMYL1"
      },
      "execution_count": null,
      "outputs": []
    },
    {
      "cell_type": "markdown",
      "source": [
        "# 2. Packages\n",
        "Execute the following code cells for installing the packages needed."
      ],
      "metadata": {
        "id": "qHulOeVOMmyD"
      }
    },
    {
      "cell_type": "code",
      "source": [
        "!pip install autogen-agentchat autogen-ext[openai] matplotlib yfinance -q\n",
        "!pip install groq -q"
      ],
      "metadata": {
        "id": "efxTjkXiMtyG"
      },
      "execution_count": null,
      "outputs": []
    },
    {
      "cell_type": "markdown",
      "source": [
        "# 3. Problem Statement: Multi-Agent Meal Planning System with Budget Management"
      ],
      "metadata": {
        "id": "BUvMKTSAM2NJ"
      }
    },
    {
      "cell_type": "markdown",
      "source": [
        "\n",
        "In this notebook we will design and implement a multi-agent system to assist users in meal planning while addressing the following:\n",
        "\n",
        "* Dietary preferences: Personalization based on restrictions and user preferences.\n",
        "* Nutritional goals: Balanced and healthy meal recommendations.\n",
        "* Financial constraints: Ensuring affordability through budget validation.\n",
        "\n",
        "This system will include a Budget Checker Tool to guarantee all recommendations fit within the user's financial limits.\n",
        "\n",
        "\n",
        "**System**\n",
        "\n",
        "1. Personalized Meal Recommendations:\n",
        "\n",
        "* Provides tailored meal suggestions for breakfast, lunch, dinner, and snacks.\n",
        "* Considers dietary restrictions, time availability, and individual preferences.\n",
        "2. Budget Validation:\n",
        "\n",
        "* Uses the Budget Checker Tool to confirm that meal costs fit within the user’s budget.\n",
        "3. User-Friendly Assistance:\n",
        "\n",
        "* Delivers clear, concise, and actionable recommendations for each meal type.\n",
        "\n",
        "**Agent Roles**\n",
        "\n",
        "1. Breakfast Agent:\n",
        "\n",
        "Role: Recommends breakfast options that align with dietary preferences, preparation time, and nutritional goals.\n",
        "\n",
        "Specialization: Provides a single breakfast suggestion and validates its affordability using the Budget Checker Tool.\n",
        "2. Lunch Agent:\n",
        "\n",
        "Role: Suggests balanced and nutritious lunch options tailored to dietary needs.\n",
        "\n",
        "Specialization: Offers one lunch suggestion and ensures it fits within the budget.\n",
        "\n",
        "3. Dinner Agent:\n",
        "\n",
        "Role: Recommends practical dinner options based on dietary requirements, budget, and preparation constraints.\n",
        "\n",
        "Specialization: Validates that dinner suggestions are both feasible and affordable.\n",
        "\n",
        "4. Snack Agent:\n",
        "\n",
        "Role: Proposes healthy and satisfying snack options to complement the day’s meals.\n",
        "\n",
        "Specialization: Verifies that snack recommendations are affordable and nutritionally balanced.\n",
        "\n",
        "5. Budget Agent:\n",
        "\n",
        "Role: Ensures all meal costs remain within the user's remaining budget by using the Budget Checker Tool.\n",
        "\n",
        "Specialization: Provides real-time budget feedback to guide meal selections and prevent overspending.\n",
        "\n",
        "\n",
        "\n",
        "**Custom Tool: Budget Checker Tool**\n",
        "1. Purpose:\n",
        "\n",
        "* Validates if a proposed meal cost fits within the user’s current budget.\n",
        "\n",
        "2. Features:\n",
        "\n",
        "* Budget Validation: Compares the cost of a meal against the remaining budget.\n",
        "* Feedback: Provides clear, actionable messages indicating:\n",
        "\n",
        "  Whether the cost is affordable.\n",
        "\n",
        "  How much budget remains or is exceeded.\n",
        "\n",
        "* Integration: Used by all meal-specific agents to ensure recommendations are financially feasible."
      ],
      "metadata": {
        "id": "NArOztp59V1n"
      }
    },
    {
      "cell_type": "markdown",
      "source": [
        "# 4. Configure the Model Client:\n",
        "\n",
        "Use the OpenAIChatCompletionClient class to create an instance of the model client.\n",
        "\n",
        "Configure it with the following:\n",
        "\n",
        "* Model name: \"llama3-70b-8192\".\n",
        "\n",
        "* API base URL: \"https://api.groq.com/openai/v1\".\n",
        "\n",
        "* API key: Use an environment variable named \"GROQ_API_KEY\" for secure authentication.\n",
        "\n",
        "* Model settings: Include attributes like whether vision is enabled, function-calling support, and JSON output format."
      ],
      "metadata": {
        "id": "XbXVJt2bPj_f"
      }
    },
    {
      "cell_type": "code",
      "source": [
        "from autogen_ext.models.openai import OpenAIChatCompletionClient\n",
        "\n",
        "# Step 1: Create the model client\n",
        "# Complete the following implementation\n",
        "model_client = __________(\n",
        "    model=\"__________\",\n",
        "    base_url=\"__________\",\n",
        "    api_key=os.environ[\"__________\"],\n",
        "    model_info={\n",
        "        \"vision\": __________,\n",
        "        \"function_calling\": __________,\n",
        "        \"json_output\": __________,\n",
        "        \"family\": \"__________\",\n",
        "    },\n",
        ")\n",
        "\n",
        "# Step 2: Verify the client is set up correctly\n",
        "print(model_client)"
      ],
      "metadata": {
        "id": "Bhq1nPdMNzZi"
      },
      "execution_count": null,
      "outputs": []
    },
    {
      "cell_type": "markdown",
      "source": [
        "# 5. Budget Tracker Tool\n",
        "\n",
        "The provided code implements a Budget Checker Tool to validate whether a given cost is within the current budget."
      ],
      "metadata": {
        "id": "tw0V5q65N5fM"
      }
    },
    {
      "cell_type": "code",
      "source": [
        "from autogen_core.tools import FunctionTool\n",
        "\n",
        "def budget_checker_tool(cost: float, current_budget: float) -> dict:\n",
        "    \"\"\"\n",
        "    Check if a given cost fits within the current budget.\n",
        "\n",
        "    :param cost: float, the cost to check.\n",
        "    :param current_budget: float, the current remaining budget.\n",
        "    :return: dict, containing whether the cost fits the budget and a message.\n",
        "    \"\"\"\n",
        "    if cost > current_budget:\n",
        "        return {\n",
        "            \"fits_budget\": False,\n",
        "            \"message\": f\"This exceeds your budget by ${cost - current_budget:.2f}.\"\n",
        "        }\n",
        "    return {\n",
        "        \"fits_budget\": True,\n",
        "        \"message\": f\"The cost of ${cost:.2f} fits within your budget.\"\n",
        "    }\n",
        "\n",
        "# Example usage with the FunctionTool\n",
        "budget_checker_tool = FunctionTool(\n",
        "    budget_checker_tool,\n",
        "    description=\"Check if a given cost fits within the current budget.\"\n",
        ")"
      ],
      "metadata": {
        "id": "WzDx9Y0rY_kI"
      },
      "execution_count": null,
      "outputs": []
    },
    {
      "cell_type": "markdown",
      "source": [
        "#6. Agent Design\n",
        "\n",
        "In this task, you will implement a set of specialized Assistant Agents to collaboratively plan meals while addressing dietary, nutritional, and budgetary constraints. You will design Meal Planner Agents for breakfast, lunch, dinner, and snacks, each with clear roles and behavioral instructions."
      ],
      "metadata": {
        "id": "tlonsPS0Mtj1"
      }
    },
    {
      "cell_type": "code",
      "source": [
        "# Import the required class\n",
        "from autogen_agentchat.agents import AssistantAgent\n",
        "\n",
        "# Step 1: Define the Budget Agent\n",
        "# Complete the following implementation\n",
        "budget_agent = AssistantAgent(\n",
        "    name=None,\n",
        "    tools=None,  # Use the budget checker tool\n",
        "    model_client=None,\n",
        "    description=None,\n",
        "    system_message=None\n",
        ")\n",
        "\n",
        "# Step 2: Define the Breakfast Planner Agent\n",
        "# Complete the following implementation\n",
        "breakfast_agent = AssistantAgent(\n",
        "    name=None,\n",
        "    model_client=None,\n",
        "    description=None,\n",
        "    system_message=None\n",
        ")\n",
        "\n",
        "# Step 3: Define the Lunch Planner Agent\n",
        "# Complete the following implementation\n",
        "lunch_agent = AssistantAgent(\n",
        "    name=None,\n",
        "    model_client=None,\n",
        "    description=None,\n",
        "    system_message=None\n",
        ")\n",
        "\n",
        "# Step 4: Define the Dinner Planner Agent\n",
        "# Complete the following implementation\n",
        "dinner_agent = AssistantAgent(\n",
        "    name=None,\n",
        "    model_client=None,\n",
        "    description=None,\n",
        "    system_message=None\n",
        ")\n",
        "\n",
        "# Step 5: Define the Snack Planner Agent\n",
        "# Complete the following implementation\n",
        "snack_agent = AssistantAgent(\n",
        "    name=None,\n",
        "    model_client=None,\n",
        "    description=None,\n",
        "    system_message=None\n",
        ")\n",
        "\n",
        "# Step 6: Test the agents\n",
        "print(\"Agents initialized successfully!\")\n"
      ],
      "metadata": {
        "id": "RI1MB6P-VpN3"
      },
      "execution_count": null,
      "outputs": []
    },
    {
      "cell_type": "markdown",
      "source": [
        "\n",
        "- Question: which termination methods are available (introduced in the exercise) and what are they best used for and what are the potential issues?\n",
        "\n",
        "Answer:\n",
        "\n",
        "- Question: why is it important to have a termination condition?\n",
        "\n",
        "Answer:\n",
        "\n",
        "- Question: Can the approaches be combined?\n",
        "\n",
        "Answer:\n"
      ],
      "metadata": {
        "id": "XnYyJzcuNPN0"
      }
    },
    {
      "cell_type": "markdown",
      "source": [
        "# 7. Implementing Termination\n",
        "Implement a MaxMessageTermination with 10 max_messages"
      ],
      "metadata": {
        "id": "hcm09E50Xycl"
      }
    },
    {
      "cell_type": "code",
      "source": [
        "from autogen_agentchat.conditions import MaxMessageTermination\n",
        "# Complete the following implementation\n",
        "termination = None"
      ],
      "metadata": {
        "id": "8GY9GviWP2tq"
      },
      "execution_count": null,
      "outputs": []
    },
    {
      "cell_type": "markdown",
      "source": [
        "#8. RoundRobinGroupChat\n",
        "\n",
        "In this part, you will implement a RoundRobinGroupChat team to coordinate multiple agents for a meal-planning task. The system will use a sequential approach, ensuring that each agent contributes to the task in a pre-defined order.\n",
        "\n",
        "please think about the sequence of the agents that you defined above. Which sequence might be best?"
      ],
      "metadata": {
        "id": "HDNnnP-mQdDo"
      }
    },
    {
      "cell_type": "code",
      "source": [
        "from autogen_agentchat.teams import RoundRobinGroupChat\n",
        "from autogen_agentchat.ui import Console\n",
        "# Complete the following implementation\n",
        "team = None"
      ],
      "metadata": {
        "id": "QrCkv3UNQ2lZ"
      },
      "execution_count": null,
      "outputs": []
    },
    {
      "cell_type": "code",
      "source": [
        "# Complete the following implementation\n",
        "await Console(\n",
        "    None\n",
        ")"
      ],
      "metadata": {
        "id": "3UHMm5p8RMMG"
      },
      "execution_count": null,
      "outputs": []
    },
    {
      "cell_type": "markdown",
      "source": [
        "Expected output should show the following:\n",
        "\n",
        "**Agents' Initial Suggestions:** Each agent provides meal recommendations (e.g., breakfast, lunch, dinner, snack) with corresponding costs.\n",
        "\n",
        "**Budget Validation:** The Budget_Agent uses the budget_checker_tool to validate if the total cost fits within the budget. If it doesn't, the agent provides a clear message explaining how much the budget is exceeded.\n",
        "\n",
        "**Adjustments by Agents:** If the budget is exceeded, agents revise their recommendations to bring the total cost within the budget.\n",
        "\n",
        "**Task Completion:** The system stops after reaching the maximum number of allowed messages, with a summary of the interactions."
      ],
      "metadata": {
        "id": "jhxsIaFrd0At"
      }
    },
    {
      "cell_type": "markdown",
      "source": [
        "- Question: What are the drawbacks of this approach?\n",
        "\n",
        "Answer:"
      ],
      "metadata": {
        "id": "G1eRvmQnfxT0"
      }
    },
    {
      "cell_type": "markdown",
      "source": [
        "### ***What You Should Remember:***\n",
        "\n",
        "1. **Multi-Agent Systems** allow specialized agents to collaboratively solve tasks, with each agent focusing on a specific role (e.g., meal planning, budget validation).\n",
        "\n",
        "2. **RoundRobinGroupChat** ensures that agents interact sequentially, providing structured communication and ensuring every agent contributes in a predefined order.\n",
        "\n",
        "3. **SelectorGroupChat** dynamically selects agents based on the task's context, enabling efficient and context-aware delegation of responsibilities.\n",
        "\n",
        "5. **Assistant Agents** are modular components with specialized roles (e.g., Breakfast Agent, Snack Agent) that generate context-specific responses and recommendations.\n",
        "\n",
        "\n",
        "7. **System Messages and Descriptions** guide agent behavior, specifying their focus (e.g., dietary preferences, time constraints, balanced nutrition) and ensuring clarity in their contributions.\n",
        "\n",
        "8. **Building a Multi-Agent System** involves:\n",
        "    - **Agent Setup:** Defining agents with specific roles and integrating tools like the Budget Checker.\n",
        "    - **Coordination Mechanisms:** Using methods like `RoundRobinGroupChat` to manage agent interactions."
      ],
      "metadata": {
        "id": "e6tSmlAghL7I"
      }
    },
    {
      "cell_type": "code",
      "source": [],
      "metadata": {
        "id": "nTTOGInkgqyl"
      },
      "execution_count": null,
      "outputs": []
    }
  ]
}