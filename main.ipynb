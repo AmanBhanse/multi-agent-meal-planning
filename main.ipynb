{
 "cells": [
  {
   "cell_type": "markdown",
   "metadata": {
    "id": "LqyxjCYkHEgx"
   },
   "source": [
    "\n",
    "<div align=\"center\">\n",
    "  <h1></h1>\n",
    "  <h1>Multi-Agent Meal Planning</h1>\n",
    "  <h4 align=\"center\">Assignmnet III</h4>\n",
    "  <h4 align=\"center\"></h4>\n",
    "</div>"
   ]
  },
  {
   "cell_type": "markdown",
   "metadata": {
    "id": "3xtFXjOSHdJq"
   },
   "source": [
    "Welcome to Assignment III!\n",
    "\n",
    "In this notebook, you will design and implement a Multi-Agent Meal Planning System that generates meal recommendations while adhering to budgetary and nutritional constraints. Using a team of specialized agents, you'll create a dynamic and interactive system capable of tailoring meal plans to diverse user requirements.\n",
    "\n",
    "**By the end of this assignment, you'll be able to:**\n",
    "1. Build a Multi-Agent System to collaboratively solve a complex task, such as\n",
    "meal planning.\n",
    "2. Design agents with specialized roles, such as recommending meals or validating budgets.\n",
    "3. Implement agent coordination mechanisms using RoundRobinGroupChat for group chatting.\n",
    "4. Integrate external tools (e.g., a Budget Checker Tool) to ensure the system adheres to financial constraints.\n",
    "5. Use termination methods effectively to manage agent interactions and prevent resource overuse."
   ]
  },
  {
   "cell_type": "markdown",
   "metadata": {
    "id": "jKmTq4gUHnlV"
   },
   "source": [
    "## Group Members\n",
    "\n",
    "\n",
    "1. First memebr:\n",
    "  * Name: Aman Sudhakar Bhanse\n",
    "  * Matrikel-Nr.: 430874\n",
    "2. Second memebr:\n",
    "  * Name: Sourav Chitnis\n",
    "  * Matrikel-Nr.: 430876\n",
    "2. Third memebr:\n",
    "  * Name:\n",
    "  * Matrikel-Nr.:"
   ]
  },
  {
   "cell_type": "markdown",
   "metadata": {
    "id": "B4PmZxLsHq2w"
   },
   "source": [
    "# 1. Access to GROQ.\n",
    "Execute the following cell to connect to your Groq account."
   ]
  },
  {
   "cell_type": "code",
   "execution_count": 1,
   "metadata": {
    "id": "ZYkvWYtAMYL1"
   },
   "outputs": [],
   "source": [
    "import os\n",
    "from getpass import getpass\n",
    "\n",
    "tokenGROQ = getpass('Enter GROQ_API_KEY here: ')\n",
    "os.environ[\"GROQ_API_KEY\"] = tokenGROQ"
   ]
  },
  {
   "cell_type": "markdown",
   "metadata": {
    "id": "qHulOeVOMmyD"
   },
   "source": [
    "# 2. Packages\n",
    "Execute the following code cells for installing the packages needed."
   ]
  },
  {
   "cell_type": "code",
   "execution_count": 2,
   "metadata": {
    "id": "efxTjkXiMtyG"
   },
   "outputs": [
    {
     "name": "stderr",
     "output_type": "stream",
     "text": [
      "\n",
      "[notice] A new release of pip is available: 24.3.1 -> 25.0\n",
      "[notice] To update, run: python.exe -m pip install --upgrade pip\n",
      "\n",
      "[notice] A new release of pip is available: 24.3.1 -> 25.0\n",
      "[notice] To update, run: python.exe -m pip install --upgrade pip\n"
     ]
    }
   ],
   "source": [
    "!pip install autogen-agentchat autogen-ext[openai] matplotlib yfinance -q\n",
    "!pip install groq -q"
   ]
  },
  {
   "cell_type": "markdown",
   "metadata": {
    "id": "BUvMKTSAM2NJ"
   },
   "source": [
    "# 3. Problem Statement: Multi-Agent Meal Planning System with Budget Management"
   ]
  },
  {
   "cell_type": "markdown",
   "metadata": {
    "id": "NArOztp59V1n"
   },
   "source": [
    "\n",
    "In this notebook we will design and implement a multi-agent system to assist users in meal planning while addressing the following:\n",
    "\n",
    "* Dietary preferences: Personalization based on restrictions and user preferences.\n",
    "* Nutritional goals: Balanced and healthy meal recommendations.\n",
    "* Financial constraints: Ensuring affordability through budget validation.\n",
    "\n",
    "This system will include a Budget Checker Tool to guarantee all recommendations fit within the user's financial limits.\n",
    "\n",
    "\n",
    "**System**\n",
    "\n",
    "1. Personalized Meal Recommendations:\n",
    "\n",
    "* Provides tailored meal suggestions for breakfast, lunch, dinner, and snacks.\n",
    "* Considers dietary restrictions, time availability, and individual preferences.\n",
    "2. Budget Validation:\n",
    "\n",
    "* Uses the Budget Checker Tool to confirm that meal costs fit within the user’s budget.\n",
    "3. User-Friendly Assistance:\n",
    "\n",
    "* Delivers clear, concise, and actionable recommendations for each meal type.\n",
    "\n",
    "**Agent Roles**\n",
    "\n",
    "1. Breakfast Agent:\n",
    "\n",
    "Role: Recommends breakfast options that align with dietary preferences, preparation time, and nutritional goals.\n",
    "\n",
    "Specialization: Provides a single breakfast suggestion and validates its affordability using the Budget Checker Tool.\n",
    "2. Lunch Agent:\n",
    "\n",
    "Role: Suggests balanced and nutritious lunch options tailored to dietary needs.\n",
    "\n",
    "Specialization: Offers one lunch suggestion and ensures it fits within the budget.\n",
    "\n",
    "3. Dinner Agent:\n",
    "\n",
    "Role: Recommends practical dinner options based on dietary requirements, budget, and preparation constraints.\n",
    "\n",
    "Specialization: Validates that dinner suggestions are both feasible and affordable.\n",
    "\n",
    "4. Snack Agent:\n",
    "\n",
    "Role: Proposes healthy and satisfying snack options to complement the day’s meals.\n",
    "\n",
    "Specialization: Verifies that snack recommendations are affordable and nutritionally balanced.\n",
    "\n",
    "5. Budget Agent:\n",
    "\n",
    "Role: Ensures all meal costs remain within the user's remaining budget by using the Budget Checker Tool.\n",
    "\n",
    "Specialization: Provides real-time budget feedback to guide meal selections and prevent overspending.\n",
    "\n",
    "\n",
    "\n",
    "**Custom Tool: Budget Checker Tool**\n",
    "1. Purpose:\n",
    "\n",
    "* Validates if a proposed meal cost fits within the user’s current budget.\n",
    "\n",
    "2. Features:\n",
    "\n",
    "* Budget Validation: Compares the cost of a meal against the remaining budget.\n",
    "* Feedback: Provides clear, actionable messages indicating:\n",
    "\n",
    "  Whether the cost is affordable.\n",
    "\n",
    "  How much budget remains or is exceeded.\n",
    "\n",
    "* Integration: Used by all meal-specific agents to ensure recommendations are financially feasible."
   ]
  },
  {
   "cell_type": "markdown",
   "metadata": {
    "id": "XbXVJt2bPj_f"
   },
   "source": [
    "# 4. Configure the Model Client:\n",
    "\n",
    "Use the OpenAIChatCompletionClient class to create an instance of the model client.\n",
    "\n",
    "Configure it with the following:\n",
    "\n",
    "* Model name: \"llama3-70b-8192\".\n",
    "\n",
    "* API base URL: \"https://api.groq.com/openai/v1\".\n",
    "\n",
    "* API key: Use an environment variable named \"GROQ_API_KEY\" for secure authentication.\n",
    "\n",
    "* Model settings: Include attributes like whether vision is enabled, function-calling support, and JSON output format."
   ]
  },
  {
   "cell_type": "code",
   "execution_count": 3,
   "metadata": {
    "id": "Bhq1nPdMNzZi"
   },
   "outputs": [
    {
     "name": "stdout",
     "output_type": "stream",
     "text": [
      "<autogen_ext.models.openai._openai_client.OpenAIChatCompletionClient object at 0x000001B3F8C97800>\n"
     ]
    }
   ],
   "source": [
    "from autogen_ext.models.openai import OpenAIChatCompletionClient\n",
    "\n",
    "# Step 1: Create the model client\n",
    "# Complete the following implementation\n",
    "model_client = OpenAIChatCompletionClient(\n",
    "    model=\"llama3-70b-8192\",\n",
    "    base_url=\"https://api.groq.com/openai/v1\",\n",
    "    api_key=os.environ[\"GROQ_API_KEY\"],\n",
    "    model_info={\n",
    "        \"vision\": False,\n",
    "        \"function_calling\": True,\n",
    "        \"json_output\": True,\n",
    "        \"family\": \"llama3\",\n",
    "    },\n",
    ")\n",
    "\n",
    "# Step 2: Verify the client is set up correctly\n",
    "print(model_client)"
   ]
  },
  {
   "cell_type": "markdown",
   "metadata": {
    "id": "tw0V5q65N5fM"
   },
   "source": [
    "# 5. Budget Tracker Tool\n",
    "\n",
    "The provided code implements a Budget Checker Tool to validate whether a given cost is within the current budget."
   ]
  },
  {
   "cell_type": "code",
   "execution_count": 5,
   "metadata": {
    "id": "WzDx9Y0rY_kI"
   },
   "outputs": [],
   "source": [
    "from autogen_core.tools import FunctionTool\n",
    "\n",
    "def budget_checker_tool(cost: float, current_budget: float) -> dict:\n",
    "    \"\"\"\n",
    "    Check if a given cost fits within the current budget.\n",
    "\n",
    "    :param cost: float, the cost to check.\n",
    "    :param current_budget: float, the current remaining budget.\n",
    "    :return: dict, containing whether the cost fits the budget and a message.\n",
    "    \"\"\"\n",
    "    if cost > current_budget:\n",
    "        return {\n",
    "            \"fits_budget\": False,\n",
    "            \"message\": f\"This exceeds your budget by ${cost - current_budget:.2f}.\"\n",
    "        }\n",
    "    return {\n",
    "        \"fits_budget\": True,\n",
    "        \"message\": f\"The cost of ${cost:.2f} fits within your budget.\"\n",
    "    }\n",
    "\n",
    "# Example usage with the FunctionTool\n",
    "budget_checker_tool = FunctionTool(\n",
    "    budget_checker_tool,\n",
    "    description=\"Check if a given cost fits within the current budget.\"\n",
    ")"
   ]
  },
  {
   "cell_type": "markdown",
   "metadata": {
    "id": "tlonsPS0Mtj1"
   },
   "source": [
    "#6. Agent Design\n",
    "\n",
    "In this task, you will implement a set of specialized Assistant Agents to collaboratively plan meals while addressing dietary, nutritional, and budgetary constraints. You will design Meal Planner Agents for breakfast, lunch, dinner, and snacks, each with clear roles and behavioral instructions."
   ]
  },
  {
   "cell_type": "code",
   "execution_count": 6,
   "metadata": {
    "id": "RI1MB6P-VpN3"
   },
   "outputs": [
    {
     "name": "stdout",
     "output_type": "stream",
     "text": [
      "Agents initialized successfully!\n"
     ]
    }
   ],
   "source": [
    "# Import the required class\n",
    "from autogen_agentchat.agents import AssistantAgent\n",
    "\n",
    "# Step 1: Define the Budget Agent\n",
    "# Complete the following implementation\n",
    "budget_agent = AssistantAgent(\n",
    "    name=\"BudgetAgent\",\n",
    "    tools=[budget_checker_tool],  # Use the budget checker tool\n",
    "    model_client=model_client,\n",
    "    description=\"An agent that checks meal costs are within the allocated budget.\",\n",
    "    system_message=\"You are an helpful AI assistant that ensures all the meal recommendations are within the budget provided.\"\n",
    ")\n",
    "\n",
    "# Step 2: Define the Breakfast Planner Agent\n",
    "# Complete the following implementation\n",
    "breakfast_agent = AssistantAgent(\n",
    "    name=\"BreakfastAgent\",\n",
    "    model_client=model_client,\n",
    "    description=\"An agent that recommends breakfast options that align with dietary preferences, preparation time, and nutritional goals.\",\n",
    "    system_message=\"You are an helpful AI assistant that provides a single breakfast suggestion that is quick, healthy and budget friendly.\"\n",
    ")\n",
    "\n",
    "# Step 3: Define the Lunch Planner Agent\n",
    "# Complete the following implementation\n",
    "lunch_agent = AssistantAgent(\n",
    "    name=\"LunchAgent\",\n",
    "    model_client=model_client,\n",
    "    description=\"An agent that suggests balanced and nutritious lunch options tailored to dietary needs and user.\",\n",
    "    system_message=\"You are an helpful AI assistant that offers one lunch suggestion and ensures it fits within the budget and is healthy.\"\n",
    ")\n",
    "\n",
    "# Step 4: Define the Dinner Planner Agent\n",
    "# Complete the following implementation\n",
    "dinner_agent = AssistantAgent(\n",
    "    name=\"DinnerAgent\",\n",
    "    model_client=model_client,\n",
    "    description=\"An agent that recommends practical dinner options based on dietary requirements, budget, and preparation constraints.\",\n",
    "    system_message=\"You are an helpful AI assistant that provides one dinner suggestion and validates that it is both feasible and affordable and meets dietary requirements.\"\n",
    ")\n",
    "\n",
    "# Step 5: Define the Snack Planner Agent\n",
    "# Complete the following implementation\n",
    "snack_agent = AssistantAgent(\n",
    "    name=\"SnackAgent\",\n",
    "    model_client=model_client,\n",
    "    description=\"An agent that proposes healthy and satisfying snack options to complement daily meals.\",\n",
    "    system_message=\"You are an helpful AI assistant that focus on healthy and affordable snack recommendations that fit within the user’s remaining budget.\"\n",
    ")\n",
    "\n",
    "# Step 6: Test the agents\n",
    "print(\"Agents initialized successfully!\")\n"
   ]
  },
  {
   "cell_type": "markdown",
   "metadata": {
    "id": "XnYyJzcuNPN0"
   },
   "source": [
    "\n",
    "- Question: which termination methods are available (introduced in the exercise) and what are they best used for and what are the potential issues?\n",
    "\n",
    "Answer:\n",
    "\n",
    "- Question: why is it important to have a termination condition?\n",
    "\n",
    "Answer:\n",
    "\n",
    "- Question: Can the approaches be combined?\n",
    "\n",
    "Answer:\n"
   ]
  },
  {
   "cell_type": "markdown",
   "metadata": {
    "id": "hcm09E50Xycl"
   },
   "source": [
    "# 7. Implementing Termination\n",
    "Implement a MaxMessageTermination with 10 max_messages"
   ]
  },
  {
   "cell_type": "code",
   "execution_count": 7,
   "metadata": {
    "id": "8GY9GviWP2tq"
   },
   "outputs": [],
   "source": [
    "from autogen_agentchat.conditions import MaxMessageTermination\n",
    "# Complete the following implementation\n",
    "termination = MaxMessageTermination(max_messages=10)"
   ]
  },
  {
   "cell_type": "markdown",
   "metadata": {
    "id": "HDNnnP-mQdDo"
   },
   "source": [
    "#8. RoundRobinGroupChat\n",
    "\n",
    "In this part, you will implement a RoundRobinGroupChat team to coordinate multiple agents for a meal-planning task. The system will use a sequential approach, ensuring that each agent contributes to the task in a pre-defined order.\n",
    "\n",
    "please think about the sequence of the agents that you defined above. Which sequence might be best?"
   ]
  },
  {
   "cell_type": "code",
   "execution_count": 9,
   "metadata": {
    "id": "QrCkv3UNQ2lZ"
   },
   "outputs": [],
   "source": [
    "from autogen_agentchat.teams import RoundRobinGroupChat\n",
    "from autogen_agentchat.ui import Console\n",
    "# Complete the following implementation\n",
    "team = RoundRobinGroupChat([breakfast_agent,lunch_agent,snack_agent,dinner_agent,budget_agent],termination_condition=termination)"
   ]
  },
  {
   "cell_type": "code",
   "execution_count": 15,
   "metadata": {
    "id": "3UHMm5p8RMMG"
   },
   "outputs": [
    {
     "ename": "TypeError",
     "evalue": "'async for' requires an object with __aiter__ method, got NoneType",
     "output_type": "error",
     "traceback": [
      "\u001b[1;31m---------------------------------------------------------------------------\u001b[0m",
      "\u001b[1;31mTypeError\u001b[0m                                 Traceback (most recent call last)",
      "Cell \u001b[1;32mIn[15], line 2\u001b[0m\n\u001b[0;32m      1\u001b[0m \u001b[38;5;66;03m# Complete the following implementation\u001b[39;00m\n\u001b[1;32m----> 2\u001b[0m \u001b[38;5;28;01mawait\u001b[39;00m Console(\n\u001b[0;32m      3\u001b[0m     \u001b[38;5;66;03m#await team.run()\u001b[39;00m\n\u001b[0;32m      4\u001b[0m     \u001b[38;5;28;01mNone\u001b[39;00m\n\u001b[0;32m      5\u001b[0m )\n",
      "File \u001b[1;32mf:\\RPTU\\1st sem wise 24-25\\Gen AI exercise\\Assignment 3\\multi-agent-meal-planning\\env\\Lib\\site-packages\\autogen_agentchat\\ui\\_console.py:109\u001b[0m, in \u001b[0;36mConsole\u001b[1;34m(stream, no_inline_images, output_stats, user_input_manager)\u001b[0m\n\u001b[0;32m    105\u001b[0m total_usage \u001b[38;5;241m=\u001b[39m RequestUsage(prompt_tokens\u001b[38;5;241m=\u001b[39m\u001b[38;5;241m0\u001b[39m, completion_tokens\u001b[38;5;241m=\u001b[39m\u001b[38;5;241m0\u001b[39m)\n\u001b[0;32m    107\u001b[0m last_processed: Optional[T] \u001b[38;5;241m=\u001b[39m \u001b[38;5;28;01mNone\u001b[39;00m\n\u001b[1;32m--> 109\u001b[0m \u001b[38;5;28;01masync\u001b[39;00m \u001b[38;5;28;01mfor\u001b[39;00m message \u001b[38;5;129;01min\u001b[39;00m stream:\n\u001b[0;32m    110\u001b[0m     \u001b[38;5;28;01mif\u001b[39;00m \u001b[38;5;28misinstance\u001b[39m(message, TaskResult):\n\u001b[0;32m    111\u001b[0m         duration \u001b[38;5;241m=\u001b[39m time\u001b[38;5;241m.\u001b[39mtime() \u001b[38;5;241m-\u001b[39m start_time\n",
      "\u001b[1;31mTypeError\u001b[0m: 'async for' requires an object with __aiter__ method, got NoneType"
     ]
    }
   ],
   "source": [
    "# Complete the following implementation\n",
    "await Console(\n",
    "    #await team.run()\n",
    "    None\n",
    ")"
   ]
  },
  {
   "cell_type": "markdown",
   "metadata": {
    "id": "jhxsIaFrd0At"
   },
   "source": [
    "Expected output should show the following:\n",
    "\n",
    "**Agents' Initial Suggestions:** Each agent provides meal recommendations (e.g., breakfast, lunch, dinner, snack) with corresponding costs.\n",
    "\n",
    "**Budget Validation:** The Budget_Agent uses the budget_checker_tool to validate if the total cost fits within the budget. If it doesn't, the agent provides a clear message explaining how much the budget is exceeded.\n",
    "\n",
    "**Adjustments by Agents:** If the budget is exceeded, agents revise their recommendations to bring the total cost within the budget.\n",
    "\n",
    "**Task Completion:** The system stops after reaching the maximum number of allowed messages, with a summary of the interactions."
   ]
  },
  {
   "cell_type": "markdown",
   "metadata": {
    "id": "G1eRvmQnfxT0"
   },
   "source": [
    "- Question: What are the drawbacks of this approach?\n",
    "\n",
    "Answer:"
   ]
  },
  {
   "cell_type": "markdown",
   "metadata": {
    "id": "e6tSmlAghL7I"
   },
   "source": [
    "### ***What You Should Remember:***\n",
    "\n",
    "1. **Multi-Agent Systems** allow specialized agents to collaboratively solve tasks, with each agent focusing on a specific role (e.g., meal planning, budget validation).\n",
    "\n",
    "2. **RoundRobinGroupChat** ensures that agents interact sequentially, providing structured communication and ensuring every agent contributes in a predefined order.\n",
    "\n",
    "3. **SelectorGroupChat** dynamically selects agents based on the task's context, enabling efficient and context-aware delegation of responsibilities.\n",
    "\n",
    "5. **Assistant Agents** are modular components with specialized roles (e.g., Breakfast Agent, Snack Agent) that generate context-specific responses and recommendations.\n",
    "\n",
    "\n",
    "7. **System Messages and Descriptions** guide agent behavior, specifying their focus (e.g., dietary preferences, time constraints, balanced nutrition) and ensuring clarity in their contributions.\n",
    "\n",
    "8. **Building a Multi-Agent System** involves:\n",
    "    - **Agent Setup:** Defining agents with specific roles and integrating tools like the Budget Checker.\n",
    "    - **Coordination Mechanisms:** Using methods like `RoundRobinGroupChat` to manage agent interactions."
   ]
  },
  {
   "cell_type": "code",
   "execution_count": null,
   "metadata": {
    "id": "nTTOGInkgqyl"
   },
   "outputs": [],
   "source": []
  }
 ],
 "metadata": {
  "colab": {
   "provenance": []
  },
  "kernelspec": {
   "display_name": "env",
   "language": "python",
   "name": "python3"
  },
  "language_info": {
   "codemirror_mode": {
    "name": "ipython",
    "version": 3
   },
   "file_extension": ".py",
   "mimetype": "text/x-python",
   "name": "python",
   "nbconvert_exporter": "python",
   "pygments_lexer": "ipython3",
   "version": "3.12.8"
  }
 },
 "nbformat": 4,
 "nbformat_minor": 0
}
