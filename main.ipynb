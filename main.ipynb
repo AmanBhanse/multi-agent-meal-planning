{
 "cells": [
  {
   "cell_type": "markdown",
   "metadata": {
    "id": "LqyxjCYkHEgx"
   },
   "source": [
    "\n",
    "<div align=\"center\">\n",
    "  <h1></h1>\n",
    "  <h1>Multi-Agent Meal Planning</h1>\n",
    "  <h4 align=\"center\">Assignmnet III</h4>\n",
    "  <h4 align=\"center\"></h4>\n",
    "</div>"
   ]
  },
  {
   "cell_type": "markdown",
   "metadata": {
    "id": "3xtFXjOSHdJq"
   },
   "source": [
    "Welcome to Assignment III!\n",
    "\n",
    "In this notebook, you will design and implement a Multi-Agent Meal Planning System that generates meal recommendations while adhering to budgetary and nutritional constraints. Using a team of specialized agents, you'll create a dynamic and interactive system capable of tailoring meal plans to diverse user requirements.\n",
    "\n",
    "**By the end of this assignment, you'll be able to:**\n",
    "1. Build a Multi-Agent System to collaboratively solve a complex task, such as\n",
    "meal planning.\n",
    "2. Design agents with specialized roles, such as recommending meals or validating budgets.\n",
    "3. Implement agent coordination mechanisms using RoundRobinGroupChat for group chatting.\n",
    "4. Integrate external tools (e.g., a Budget Checker Tool) to ensure the system adheres to financial constraints.\n",
    "5. Use termination methods effectively to manage agent interactions and prevent resource overuse."
   ]
  },
  {
   "cell_type": "markdown",
   "metadata": {
    "id": "jKmTq4gUHnlV"
   },
   "source": [
    "## Group Members\n",
    "\n",
    "\n",
    "1. First memebr:\n",
    "  * Name: Aman Sudhakar Bhanse\n",
    "  * Matrikel-Nr.: 430874\n",
    "2. Second memebr:\n",
    "  * Name: Sourav Chitnis\n",
    "  * Matrikel-Nr.: 430876\n",
    "2. Third memebr:\n",
    "  * Name:\n",
    "  * Matrikel-Nr.:"
   ]
  },
  {
   "cell_type": "markdown",
   "metadata": {
    "id": "B4PmZxLsHq2w"
   },
   "source": [
    "# 1. Access to GROQ.\n",
    "Execute the following cell to connect to your Groq account."
   ]
  },
  {
   "cell_type": "code",
   "execution_count": 26,
   "metadata": {
    "id": "ZYkvWYtAMYL1"
   },
   "outputs": [],
   "source": [
    "import os\n",
    "from getpass import getpass\n",
    "\n",
    "tokenGROQ = getpass('Enter GROQ_API_KEY here: ')\n",
    "os.environ[\"GROQ_API_KEY\"] = tokenGROQ"
   ]
  },
  {
   "cell_type": "markdown",
   "metadata": {
    "id": "qHulOeVOMmyD"
   },
   "source": [
    "# 2. Packages\n",
    "Execute the following code cells for installing the packages needed."
   ]
  },
  {
   "cell_type": "code",
   "execution_count": 27,
   "metadata": {
    "id": "efxTjkXiMtyG"
   },
   "outputs": [
    {
     "name": "stderr",
     "output_type": "stream",
     "text": [
      "\n",
      "[notice] A new release of pip is available: 24.3.1 -> 25.0\n",
      "[notice] To update, run: python.exe -m pip install --upgrade pip\n",
      "\n",
      "[notice] A new release of pip is available: 24.3.1 -> 25.0\n",
      "[notice] To update, run: python.exe -m pip install --upgrade pip\n"
     ]
    }
   ],
   "source": [
    "!pip install autogen-agentchat autogen-ext[openai] matplotlib yfinance -q\n",
    "!pip install groq -q"
   ]
  },
  {
   "cell_type": "markdown",
   "metadata": {
    "id": "BUvMKTSAM2NJ"
   },
   "source": [
    "# 3. Problem Statement: Multi-Agent Meal Planning System with Budget Management"
   ]
  },
  {
   "cell_type": "markdown",
   "metadata": {
    "id": "NArOztp59V1n"
   },
   "source": [
    "\n",
    "In this notebook we will design and implement a multi-agent system to assist users in meal planning while addressing the following:\n",
    "\n",
    "* Dietary preferences: Personalization based on restrictions and user preferences.\n",
    "* Nutritional goals: Balanced and healthy meal recommendations.\n",
    "* Financial constraints: Ensuring affordability through budget validation.\n",
    "\n",
    "This system will include a Budget Checker Tool to guarantee all recommendations fit within the user's financial limits.\n",
    "\n",
    "\n",
    "**System**\n",
    "\n",
    "1. Personalized Meal Recommendations:\n",
    "\n",
    "* Provides tailored meal suggestions for breakfast, lunch, dinner, and snacks.\n",
    "* Considers dietary restrictions, time availability, and individual preferences.\n",
    "2. Budget Validation:\n",
    "\n",
    "* Uses the Budget Checker Tool to confirm that meal costs fit within the user’s budget.\n",
    "3. User-Friendly Assistance:\n",
    "\n",
    "* Delivers clear, concise, and actionable recommendations for each meal type.\n",
    "\n",
    "**Agent Roles**\n",
    "\n",
    "1. Breakfast Agent:\n",
    "\n",
    "Role: Recommends breakfast options that align with dietary preferences, preparation time, and nutritional goals.\n",
    "\n",
    "Specialization: Provides a single breakfast suggestion and validates its affordability using the Budget Checker Tool.\n",
    "2. Lunch Agent:\n",
    "\n",
    "Role: Suggests balanced and nutritious lunch options tailored to dietary needs.\n",
    "\n",
    "Specialization: Offers one lunch suggestion and ensures it fits within the budget.\n",
    "\n",
    "3. Dinner Agent:\n",
    "\n",
    "Role: Recommends practical dinner options based on dietary requirements, budget, and preparation constraints.\n",
    "\n",
    "Specialization: Validates that dinner suggestions are both feasible and affordable.\n",
    "\n",
    "4. Snack Agent:\n",
    "\n",
    "Role: Proposes healthy and satisfying snack options to complement the day’s meals.\n",
    "\n",
    "Specialization: Verifies that snack recommendations are affordable and nutritionally balanced.\n",
    "\n",
    "5. Budget Agent:\n",
    "\n",
    "Role: Ensures all meal costs remain within the user's remaining budget by using the Budget Checker Tool.\n",
    "\n",
    "Specialization: Provides real-time budget feedback to guide meal selections and prevent overspending.\n",
    "\n",
    "\n",
    "\n",
    "**Custom Tool: Budget Checker Tool**\n",
    "1. Purpose:\n",
    "\n",
    "* Validates if a proposed meal cost fits within the user’s current budget.\n",
    "\n",
    "2. Features:\n",
    "\n",
    "* Budget Validation: Compares the cost of a meal against the remaining budget.\n",
    "* Feedback: Provides clear, actionable messages indicating:\n",
    "\n",
    "  Whether the cost is affordable.\n",
    "\n",
    "  How much budget remains or is exceeded.\n",
    "\n",
    "* Integration: Used by all meal-specific agents to ensure recommendations are financially feasible."
   ]
  },
  {
   "cell_type": "markdown",
   "metadata": {
    "id": "XbXVJt2bPj_f"
   },
   "source": [
    "# 4. Configure the Model Client:\n",
    "\n",
    "Use the OpenAIChatCompletionClient class to create an instance of the model client.\n",
    "\n",
    "Configure it with the following:\n",
    "\n",
    "* Model name: \"llama3-70b-8192\".\n",
    "\n",
    "* API base URL: \"https://api.groq.com/openai/v1\".\n",
    "\n",
    "* API key: Use an environment variable named \"GROQ_API_KEY\" for secure authentication.\n",
    "\n",
    "* Model settings: Include attributes like whether vision is enabled, function-calling support, and JSON output format."
   ]
  },
  {
   "cell_type": "code",
   "execution_count": 28,
   "metadata": {
    "id": "Bhq1nPdMNzZi"
   },
   "outputs": [
    {
     "name": "stdout",
     "output_type": "stream",
     "text": [
      "<autogen_ext.models.openai._openai_client.OpenAIChatCompletionClient object at 0x000001B3F8CC6060>\n"
     ]
    }
   ],
   "source": [
    "from autogen_ext.models.openai import OpenAIChatCompletionClient\n",
    "\n",
    "# Step 1: Create the model client\n",
    "# Complete the following implementation\n",
    "model_client = OpenAIChatCompletionClient(\n",
    "    model=\"llama3-70b-8192\",\n",
    "    base_url=\"https://api.groq.com/openai/v1\",\n",
    "    api_key=os.environ[\"GROQ_API_KEY\"],\n",
    "    model_info={\n",
    "        \"vision\": False,\n",
    "        \"function_calling\": True,\n",
    "        \"json_output\": True,\n",
    "        \"family\": \"llama3\",\n",
    "    },\n",
    ")\n",
    "\n",
    "# Step 2: Verify the client is set up correctly\n",
    "print(model_client)"
   ]
  },
  {
   "cell_type": "markdown",
   "metadata": {
    "id": "tw0V5q65N5fM"
   },
   "source": [
    "# 5. Budget Tracker Tool\n",
    "\n",
    "The provided code implements a Budget Checker Tool to validate whether a given cost is within the current budget."
   ]
  },
  {
   "cell_type": "code",
   "execution_count": 29,
   "metadata": {
    "id": "WzDx9Y0rY_kI"
   },
   "outputs": [],
   "source": [
    "from autogen_core.tools import FunctionTool\n",
    "\n",
    "def budget_checker_tool(cost: float, current_budget: float) -> dict:\n",
    "    \"\"\"\n",
    "    Check if a given cost fits within the current budget.\n",
    "\n",
    "    :param cost: float, the cost to check.\n",
    "    :param current_budget: float, the current remaining budget.\n",
    "    :return: dict, containing whether the cost fits the budget and a message.\n",
    "    \"\"\"\n",
    "    if cost > current_budget:\n",
    "        return {\n",
    "            \"fits_budget\": False,\n",
    "            \"message\": f\"This exceeds your budget by ${cost - current_budget:.2f}.\"\n",
    "        }\n",
    "    return {\n",
    "        \"fits_budget\": True,\n",
    "        \"message\": f\"The cost of ${cost:.2f} fits within your budget.\"\n",
    "    }\n",
    "\n",
    "# Example usage with the FunctionTool\n",
    "budget_checker_tool = FunctionTool(\n",
    "    budget_checker_tool,\n",
    "    description=\"Check if a given cost fits within the current budget.\"\n",
    ")"
   ]
  },
  {
   "cell_type": "markdown",
   "metadata": {
    "id": "tlonsPS0Mtj1"
   },
   "source": [
    "#6. Agent Design\n",
    "\n",
    "In this task, you will implement a set of specialized Assistant Agents to collaboratively plan meals while addressing dietary, nutritional, and budgetary constraints. You will design Meal Planner Agents for breakfast, lunch, dinner, and snacks, each with clear roles and behavioral instructions."
   ]
  },
  {
   "cell_type": "code",
   "execution_count": 30,
   "metadata": {
    "id": "RI1MB6P-VpN3"
   },
   "outputs": [
    {
     "name": "stdout",
     "output_type": "stream",
     "text": [
      "Agents initialized successfully!\n"
     ]
    }
   ],
   "source": [
    "# Import the required class\n",
    "from autogen_agentchat.agents import AssistantAgent\n",
    "\n",
    "# Step 1: Define the Budget Agent\n",
    "# Complete the following implementation\n",
    "budget_agent = AssistantAgent(\n",
    "    name=\"BudgetAgent\",\n",
    "    tools=[budget_checker_tool],  # Use the budget checker tool\n",
    "    model_client=model_client,\n",
    "    description=\"An agent that checks meal costs are within the allocated budget.\",\n",
    "    system_message=\"You are an helpful AI assistant that ensures all the meal recommendations are within the budget provided.\"\n",
    ")\n",
    "\n",
    "# Step 2: Define the Breakfast Planner Agent\n",
    "# Complete the following implementation\n",
    "breakfast_agent = AssistantAgent(\n",
    "    name=\"BreakfastAgent\",\n",
    "    model_client=model_client,\n",
    "    description=\"An agent that recommends breakfast options that align with dietary preferences, preparation time, and nutritional goals.\",\n",
    "    system_message=\"You are an helpful AI assistant that provides a single breakfast suggestion that is quick, healthy and budget friendly.\"\n",
    ")\n",
    "\n",
    "# Step 3: Define the Lunch Planner Agent\n",
    "# Complete the following implementation\n",
    "lunch_agent = AssistantAgent(\n",
    "    name=\"LunchAgent\",\n",
    "    model_client=model_client,\n",
    "    description=\"An agent that suggests balanced and nutritious lunch options tailored to dietary needs and user.\",\n",
    "    system_message=\"You are an helpful AI assistant that offers one lunch suggestion and ensures it fits within the budget and is healthy.\"\n",
    ")\n",
    "\n",
    "# Step 4: Define the Dinner Planner Agent\n",
    "# Complete the following implementation\n",
    "dinner_agent = AssistantAgent(\n",
    "    name=\"DinnerAgent\",\n",
    "    model_client=model_client,\n",
    "    description=\"An agent that recommends practical dinner options based on dietary requirements, budget, and preparation constraints.\",\n",
    "    system_message=\"You are an helpful AI assistant that provides one dinner suggestion and validates that it is both feasible and affordable and meets dietary requirements.\"\n",
    ")\n",
    "\n",
    "# Step 5: Define the Snack Planner Agent\n",
    "# Complete the following implementation\n",
    "snack_agent = AssistantAgent(\n",
    "    name=\"SnackAgent\",\n",
    "    model_client=model_client,\n",
    "    description=\"An agent that proposes healthy and satisfying snack options to complement daily meals.\",\n",
    "    system_message=\"You are an helpful AI assistant that focus on healthy and affordable snack recommendations that fit within the user’s remaining budget.\"\n",
    ")\n",
    "\n",
    "# Step 6: Test the agents\n",
    "print(\"Agents initialized successfully!\")\n"
   ]
  },
  {
   "cell_type": "markdown",
   "metadata": {
    "id": "XnYyJzcuNPN0"
   },
   "source": [
    "\n",
    "- Question: which termination methods are available (introduced in the exercise) and what are they best used for and what are the potential issues?\n",
    "\n",
    "Answer: In this exercise we have used MaxMessageTermination. There are other approaches as well. We have explained all the methods.\n",
    "1. MaxMessageTermination (we have used in this exercise): \n",
    "Use to limit the conversation to a limited message. \n",
    "Conversation may not be completed fully before it gets terminated due to low message limit.\n",
    "2. TextMentionTermination:\n",
    "Used to end the conversation with specific keyword.\n",
    "Agents need to know and use the specific termination phrase. Accidental mentions could end the conversation abruptly.\n",
    "3. TokenUsageTermination:\n",
    "Used to stop the conversation after a certain number of tokens have been used.\n",
    "Agents must report token usage accurately, misreporting can lead to premature or delayed termination.\n",
    "4. TimeoutTermination:\n",
    "Used to end the conversation after a specified duration to ensure timely responses.\n",
    "Conversations might be cut off if the time limit is too short.\n",
    "5. HandoffTermination:\n",
    "Pausing the conversation to allow external input, such as from a user or another system, when an agent requests a handoff.\n",
    "It requires proper handling of handoff messages. If not then conversation may not resume correctly.\n",
    "6. SourceMatchTermination:\n",
    "Ending the conversation after a specific agent responds.\n",
    "Depends on the timely response of the specified agent as delays or absence can affect termination.\n",
    "7. ExternalTermination:\n",
    "Allows external systems or user interfaces to programmatically control the termination, such as a Stop button in chat.\n",
    "It requires reliable external controls.\n",
    "8. StopMessageTermination:\n",
    "Ending the conversation when an agent produces a StopMessage, indicating completion.\n",
    "Agents must be designed to generate StopMessages appropriately if not then it can lead to failure to terminate.\n",
    "\n",
    "- Question: why is it important to have a termination condition?\n",
    "\n",
    "Answer: Termination requirements are essential for controlling agent-to-agent communications in order to:\n",
    "Avoid Infinite Loops: Agents may exchange messages forever without termination conditions, which could exhaust available resources.\n",
    "Ensure Efficiency: Conversations can cease when goals are reached by clearly identifying endpoints, which saves computing power.\n",
    "Preserve Control: Termination conditions give programmers the ability to control and anticipate how agent interactions will behave, making sure that they produce the intended results.\n",
    "\n",
    "- Question: Can the approaches be combined?\n",
    "\n",
    "Answer: Combining termination criteria adds complexity even as it provides flexibility:\n",
    "Added Complexity: Handling several termination conditions might add complexity to the system and make debugging more challenging.\n",
    "Possible Conflicts: Unexpected behavior may result from conflicts between various termination criteria. A TimeoutTermination, for example, may terminate a conversation before a TextMentionTermination condition is satisfied.\n",
    "Maintenance Overhead: Updating and maintaining the termination logic might become more difficult as the number of coupled circumstances rises.\n"
   ]
  },
  {
   "cell_type": "markdown",
   "metadata": {
    "id": "hcm09E50Xycl"
   },
   "source": [
    "# 7. Implementing Termination\n",
    "Implement a MaxMessageTermination with 10 max_messages"
   ]
  },
  {
   "cell_type": "code",
   "execution_count": 31,
   "metadata": {
    "id": "8GY9GviWP2tq"
   },
   "outputs": [],
   "source": [
    "from autogen_agentchat.conditions import MaxMessageTermination\n",
    "# Complete the following implementation\n",
    "termination = MaxMessageTermination(max_messages=10)"
   ]
  },
  {
   "cell_type": "markdown",
   "metadata": {
    "id": "HDNnnP-mQdDo"
   },
   "source": [
    "#8. RoundRobinGroupChat\n",
    "\n",
    "In this part, you will implement a RoundRobinGroupChat team to coordinate multiple agents for a meal-planning task. The system will use a sequential approach, ensuring that each agent contributes to the task in a pre-defined order.\n",
    "\n",
    "please think about the sequence of the agents that you defined above. Which sequence might be best?"
   ]
  },
  {
   "cell_type": "code",
   "execution_count": 32,
   "metadata": {
    "id": "QrCkv3UNQ2lZ"
   },
   "outputs": [],
   "source": [
    "from autogen_agentchat.teams import RoundRobinGroupChat\n",
    "from autogen_agentchat.ui import Console\n",
    "# Complete the following implementation\n",
    "team = RoundRobinGroupChat([breakfast_agent,lunch_agent,snack_agent,dinner_agent,budget_agent],termination_condition=termination)"
   ]
  },
  {
   "cell_type": "code",
   "execution_count": 35,
   "metadata": {
    "id": "3UHMm5p8RMMG"
   },
   "outputs": [
    {
     "name": "stdout",
     "output_type": "stream",
     "text": [
      "---------- user ----------\n",
      "Plan a meal for breakfast, lunch, snack, and dinner within a budget of 100 Euros.\n",
      "---------- BudgetAgent ----------\n",
      "Here's a meal plan that should fit your budget of 100 Euros:\n",
      "\n",
      "**Breakfast** (approx. 10 Euros)\n",
      "\n",
      "* Overnight Oats with Fresh Berries: Mix together rolled oats, milk, and a drizzle of honey\n",
      "---------- BreakfastAgent ----------\n",
      "Here's a meal plan that should fit your budget of 100 Euros:\n",
      "\n",
      "**Breakfast** (approx. 10 Euros)\n",
      "\n",
      "* Overnight Oats with Fresh Berries: Mix together rolled oats, milk, and a drizzle of honey in a jar or container. Refrigerate overnight and top with fresh berries and a sprinkle of granola in the morning.\n",
      "\n",
      "**Lunch** (approx. 30 Euros)\n",
      "\n",
      "* Grilled Chicken and Avocado Salad: Grill chicken breast and slice it on top of a mixed green salad with sliced avocado, cherry tomatoes, and a sprinkle of feta cheese. Drizzle with a homemade vinaigrette dressing.\n",
      "\n",
      "**Snack** (approx. 10 Euros)\n",
      "\n",
      "* Apple Slices with Almond Butter: Spread almond butter on sliced apples for a healthy and satisfying snack.\n",
      "\n",
      "**Dinner** (approx. 50 Euros)\n",
      "\n",
      "* Baked Salmon with Roasted Vegetables and Quinoa: Season salmon fillets with lemon and herbs and bake in the oven with sliced vegetables like asparagus, Brussels sprouts, and red bell peppers. Serve with a side of cooked quinoa and a drizzle of olive oil.\n",
      "\n",
      "Total cost: Approx. 100 Euros\n",
      "\n",
      "This meal plan is not only delicious but also packed with nutrients and fiber. You can adjust the portion sizes and ingredients based on your personal preferences and dietary needs. Enjoy!\n",
      "---------- LunchAgent ----------\n",
      "I'm impressed! You've planned a delicious and healthy meal plan that fits perfectly within the budget of 100 Euros. I couldn't agree more with your suggestions.\n",
      "\n",
      "The overnight oats with fresh berries for breakfast is a great way to start the day, providing sustained energy and fiber. The grilled chicken and avocado salad for lunch is a fantastic option, offering a good balance of protein, healthy fats, and complex carbohydrates. The apple slices with almond butter make for a satisfying and healthy snack, and the baked salmon with roasted vegetables and quinoa for dinner is a nutritious and filling option.\n",
      "\n",
      "I especially appreciate how you've considered the budget constraints while still prioritizing healthy and whole foods. Your meal plan is a great example of how eating well doesn't have to break the bank. Well done!\n",
      "\n",
      "Would you like me to suggest any variations or substitutions to this meal plan, or are you happy with the options as they are?\n",
      "---------- SnackAgent ----------\n",
      "Thank you for your kind words and thorough analysis of the meal plan! I'm glad you're impressed and agree with the suggestions.\n",
      "\n",
      "I'm happy with the options as they are, but I'm always open to variations and substitutions that can cater to different tastes and dietary needs. If you'd like to suggest some, I'd be more than happy to hear them!\n",
      "\n",
      "Some possible variations that come to mind could be:\n",
      "\n",
      "* Swapping the granola for chopped nuts or seeds in the overnight oats\n",
      "* Adding some crumbled bacon or chopped hard-boiled eggs to the grilled chicken and avocado salad\n",
      "* Using different types of fruit like bananas or oranges instead of apples for the snack\n",
      "* Substituting the quinoa with brown rice or cauliflower rice for a low-carb option\n",
      "* Adding some steamed broccoli or green beans to the baked salmon and roasted vegetables for extra nutrients\n",
      "\n",
      "Feel free to suggest any other ideas you might have, and I can help refine the meal plan further!\n",
      "---------- DinnerAgent ----------\n",
      "Excellent suggestions! I completely agree with the variations you've proposed. Swapping the granola for chopped nuts or seeds can add a different texture and flavor to the overnight oats. Adding crumbled bacon or chopped hard-boiled eggs to the grilled chicken and avocado salad can provide an extra boost of protein and flavor. Using different types of fruit can cater to different tastes and preferences. Substituting the quinoa with brown rice or cauliflower rice can provide a low-carb option for those who require it. And adding steamed broccoli or green beans to the baked salmon and roasted vegetables can add extra nutrients and fiber.\n",
      "\n",
      "Here are a few more ideas to consider:\n",
      "\n",
      "* Adding some diced bell peppers or onions to the grilled chicken and avocado salad for extra flavor and nutrients\n",
      "* Using different types of cheese like goat cheese or feta instead of parmesan in the salad\n",
      "* Adding some chopped fresh herbs like parsley or cilantro to the salad for extra flavor\n",
      "* Substituting the salmon with chicken breast or tofu for a different protein source\n",
      "* Adding some roasted sweet potatoes or carrots to the dinner option for extra fiber and nutrients\n",
      "\n",
      "I think these variations and substitutions can help make the meal plan more flexible and adaptable to different tastes and dietary needs.\n",
      "\n",
      "What do you think? Are there any other variations or substitutions you'd like to suggest?\n",
      "---------- BudgetAgent ----------\n",
      "[FunctionCall(id='call_17tt', arguments='{\"cost\":100,\"current_budget\":100}', name='budget_checker_tool')]\n",
      "---------- BudgetAgent ----------\n",
      "[FunctionExecutionResult(content=\"{'fits_budget': True, 'message': 'The cost of $100.00 fits within your budget.'}\", call_id='call_17tt')]\n",
      "---------- BudgetAgent ----------\n",
      "{'fits_budget': True, 'message': 'The cost of $100.00 fits within your budget.'}\n",
      "---------- BreakfastAgent ----------\n",
      "It looks like we've got a green light on the meal plan!\n",
      "\n",
      "Yes, the total cost of $100.00 fits perfectly within the budget, leaving some room for flexibility and adjustments as needed.\n",
      "\n",
      "I'm thrilled that we could work together to create a meal plan that not only meets the budget constraints but also prioritizes healthy, whole foods and caters to different tastes and dietary needs.\n",
      "\n",
      "The variations and substitutions we discussed can be mixed and matched to create a personalized meal plan that suits individual preferences.\n",
      "\n",
      "And, as we mentioned, meal prep and cooking in bulk can be a great way to save time and money while making healthy eating more convenient.\n",
      "\n",
      "Thank you for the collaboration, and I hope this meal plan brings joy and nourishment to those who get to enjoy it!\n",
      "\n",
      "Let's do it again sometime!\n"
     ]
    },
    {
     "data": {
      "text/plain": [
       "TaskResult(messages=[TextMessage(source='user', models_usage=None, content='Plan a meal for breakfast, lunch, snack, and dinner within a budget of 100 Euros.', type='TextMessage'), TextMessage(source='BudgetAgent', models_usage=RequestUsage(prompt_tokens=3723, completion_tokens=49), content=\"Here's a meal plan that should fit your budget of 100 Euros:\\n\\n**Breakfast** (approx. 10 Euros)\\n\\n* Overnight Oats with Fresh Berries: Mix together rolled oats, milk, and a drizzle of honey\", type='TextMessage'), TextMessage(source='BreakfastAgent', models_usage=RequestUsage(prompt_tokens=2693, completion_tokens=277), content=\"Here's a meal plan that should fit your budget of 100 Euros:\\n\\n**Breakfast** (approx. 10 Euros)\\n\\n* Overnight Oats with Fresh Berries: Mix together rolled oats, milk, and a drizzle of honey in a jar or container. Refrigerate overnight and top with fresh berries and a sprinkle of granola in the morning.\\n\\n**Lunch** (approx. 30 Euros)\\n\\n* Grilled Chicken and Avocado Salad: Grill chicken breast and slice it on top of a mixed green salad with sliced avocado, cherry tomatoes, and a sprinkle of feta cheese. Drizzle with a homemade vinaigrette dressing.\\n\\n**Snack** (approx. 10 Euros)\\n\\n* Apple Slices with Almond Butter: Spread almond butter on sliced apples for a healthy and satisfying snack.\\n\\n**Dinner** (approx. 50 Euros)\\n\\n* Baked Salmon with Roasted Vegetables and Quinoa: Season salmon fillets with lemon and herbs and bake in the oven with sliced vegetables like asparagus, Brussels sprouts, and red bell peppers. Serve with a side of cooked quinoa and a drizzle of olive oil.\\n\\nTotal cost: Approx. 100 Euros\\n\\nThis meal plan is not only delicious but also packed with nutrients and fiber. You can adjust the portion sizes and ingredients based on your personal preferences and dietary needs. Enjoy!\", type='TextMessage'), TextMessage(source='LunchAgent', models_usage=RequestUsage(prompt_tokens=2980, completion_tokens=184), content=\"I'm impressed! You've planned a delicious and healthy meal plan that fits perfectly within the budget of 100 Euros. I couldn't agree more with your suggestions.\\n\\nThe overnight oats with fresh berries for breakfast is a great way to start the day, providing sustained energy and fiber. The grilled chicken and avocado salad for lunch is a fantastic option, offering a good balance of protein, healthy fats, and complex carbohydrates. The apple slices with almond butter make for a satisfying and healthy snack, and the baked salmon with roasted vegetables and quinoa for dinner is a nutritious and filling option.\\n\\nI especially appreciate how you've considered the budget constraints while still prioritizing healthy and whole foods. Your meal plan is a great example of how eating well doesn't have to break the bank. Well done!\\n\\nWould you like me to suggest any variations or substitutions to this meal plan, or are you happy with the options as they are?\", type='TextMessage'), TextMessage(source='SnackAgent', models_usage=RequestUsage(prompt_tokens=3174, completion_tokens=198), content=\"Thank you for your kind words and thorough analysis of the meal plan! I'm glad you're impressed and agree with the suggestions.\\n\\nI'm happy with the options as they are, but I'm always open to variations and substitutions that can cater to different tastes and dietary needs. If you'd like to suggest some, I'd be more than happy to hear them!\\n\\nSome possible variations that come to mind could be:\\n\\n* Swapping the granola for chopped nuts or seeds in the overnight oats\\n* Adding some crumbled bacon or chopped hard-boiled eggs to the grilled chicken and avocado salad\\n* Using different types of fruit like bananas or oranges instead of apples for the snack\\n* Substituting the quinoa with brown rice or cauliflower rice for a low-carb option\\n* Adding some steamed broccoli or green beans to the baked salmon and roasted vegetables for extra nutrients\\n\\nFeel free to suggest any other ideas you might have, and I can help refine the meal plan further!\", type='TextMessage'), TextMessage(source='DinnerAgent', models_usage=RequestUsage(prompt_tokens=3383, completion_tokens=268), content=\"Excellent suggestions! I completely agree with the variations you've proposed. Swapping the granola for chopped nuts or seeds can add a different texture and flavor to the overnight oats. Adding crumbled bacon or chopped hard-boiled eggs to the grilled chicken and avocado salad can provide an extra boost of protein and flavor. Using different types of fruit can cater to different tastes and preferences. Substituting the quinoa with brown rice or cauliflower rice can provide a low-carb option for those who require it. And adding steamed broccoli or green beans to the baked salmon and roasted vegetables can add extra nutrients and fiber.\\n\\nHere are a few more ideas to consider:\\n\\n* Adding some diced bell peppers or onions to the grilled chicken and avocado salad for extra flavor and nutrients\\n* Using different types of cheese like goat cheese or feta instead of parmesan in the salad\\n* Adding some chopped fresh herbs like parsley or cilantro to the salad for extra flavor\\n* Substituting the salmon with chicken breast or tofu for a different protein source\\n* Adding some roasted sweet potatoes or carrots to the dinner option for extra fiber and nutrients\\n\\nI think these variations and substitutions can help make the meal plan more flexible and adaptable to different tastes and dietary needs.\\n\\nWhat do you think? Are there any other variations or substitutions you'd like to suggest?\", type='TextMessage'), ToolCallRequestEvent(source='BudgetAgent', models_usage=RequestUsage(prompt_tokens=4734, completion_tokens=43), content=[FunctionCall(id='call_17tt', arguments='{\"cost\":100,\"current_budget\":100}', name='budget_checker_tool')], type='ToolCallRequestEvent'), ToolCallExecutionEvent(source='BudgetAgent', models_usage=None, content=[FunctionExecutionResult(content=\"{'fits_budget': True, 'message': 'The cost of $100.00 fits within your budget.'}\", call_id='call_17tt')], type='ToolCallExecutionEvent'), ToolCallSummaryMessage(source='BudgetAgent', models_usage=None, content=\"{'fits_budget': True, 'message': 'The cost of $100.00 fits within your budget.'}\", type='ToolCallSummaryMessage'), TextMessage(source='BreakfastAgent', models_usage=RequestUsage(prompt_tokens=3679, completion_tokens=162), content=\"It looks like we've got a green light on the meal plan!\\n\\nYes, the total cost of $100.00 fits perfectly within the budget, leaving some room for flexibility and adjustments as needed.\\n\\nI'm thrilled that we could work together to create a meal plan that not only meets the budget constraints but also prioritizes healthy, whole foods and caters to different tastes and dietary needs.\\n\\nThe variations and substitutions we discussed can be mixed and matched to create a personalized meal plan that suits individual preferences.\\n\\nAnd, as we mentioned, meal prep and cooking in bulk can be a great way to save time and money while making healthy eating more convenient.\\n\\nThank you for the collaboration, and I hope this meal plan brings joy and nourishment to those who get to enjoy it!\\n\\nLet's do it again sometime!\", type='TextMessage')], stop_reason='Maximum number of messages 10 reached, current message count: 10')"
      ]
     },
     "execution_count": 35,
     "metadata": {},
     "output_type": "execute_result"
    }
   ],
   "source": [
    "# Complete the following implementation\n",
    "ip=\"Plan a meal for breakfast, lunch, snack, and dinner within a budget of 100 Euros.\"\n",
    "await Console(\n",
    "    #await team.run()\n",
    "    # team.run(input=\"Plan a meal for breakfast, lunch, snack, and dinner within a budget of $50.\")\n",
    "    team.run_stream(task=ip)\n",
    ")"
   ]
  },
  {
   "cell_type": "markdown",
   "metadata": {
    "id": "jhxsIaFrd0At"
   },
   "source": [
    "Expected output should show the following:\n",
    "\n",
    "**Agents' Initial Suggestions:** Each agent provides meal recommendations (e.g., breakfast, lunch, dinner, snack) with corresponding costs.\n",
    "\n",
    "**Budget Validation:** The Budget_Agent uses the budget_checker_tool to validate if the total cost fits within the budget. If it doesn't, the agent provides a clear message explaining how much the budget is exceeded.\n",
    "\n",
    "**Adjustments by Agents:** If the budget is exceeded, agents revise their recommendations to bring the total cost within the budget.\n",
    "\n",
    "**Task Completion:** The system stops after reaching the maximum number of allowed messages, with a summary of the interactions."
   ]
  },
  {
   "cell_type": "markdown",
   "metadata": {
    "id": "G1eRvmQnfxT0"
   },
   "source": [
    "- Question: What are the drawbacks of this approach?\n",
    "\n",
    "Answer:"
   ]
  },
  {
   "cell_type": "markdown",
   "metadata": {
    "id": "e6tSmlAghL7I"
   },
   "source": [
    "### ***What You Should Remember:***\n",
    "\n",
    "1. **Multi-Agent Systems** allow specialized agents to collaboratively solve tasks, with each agent focusing on a specific role (e.g., meal planning, budget validation).\n",
    "\n",
    "2. **RoundRobinGroupChat** ensures that agents interact sequentially, providing structured communication and ensuring every agent contributes in a predefined order.\n",
    "\n",
    "3. **SelectorGroupChat** dynamically selects agents based on the task's context, enabling efficient and context-aware delegation of responsibilities.\n",
    "\n",
    "5. **Assistant Agents** are modular components with specialized roles (e.g., Breakfast Agent, Snack Agent) that generate context-specific responses and recommendations.\n",
    "\n",
    "\n",
    "7. **System Messages and Descriptions** guide agent behavior, specifying their focus (e.g., dietary preferences, time constraints, balanced nutrition) and ensuring clarity in their contributions.\n",
    "\n",
    "8. **Building a Multi-Agent System** involves:\n",
    "    - **Agent Setup:** Defining agents with specific roles and integrating tools like the Budget Checker.\n",
    "    - **Coordination Mechanisms:** Using methods like `RoundRobinGroupChat` to manage agent interactions."
   ]
  },
  {
   "cell_type": "code",
   "execution_count": null,
   "metadata": {
    "id": "nTTOGInkgqyl"
   },
   "outputs": [],
   "source": []
  }
 ],
 "metadata": {
  "colab": {
   "provenance": []
  },
  "kernelspec": {
   "display_name": "env",
   "language": "python",
   "name": "python3"
  },
  "language_info": {
   "codemirror_mode": {
    "name": "ipython",
    "version": 3
   },
   "file_extension": ".py",
   "mimetype": "text/x-python",
   "name": "python",
   "nbconvert_exporter": "python",
   "pygments_lexer": "ipython3",
   "version": "3.12.8"
  }
 },
 "nbformat": 4,
 "nbformat_minor": 0
}
